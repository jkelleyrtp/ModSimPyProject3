{
 "cells": [
  {
   "cell_type": "markdown",
   "metadata": {},
   "source": [
    "# High velocity food transport: a study in projectile cattle\n",
    "### Jonathan Kelley and Solomon Greenberg\n",
    "\n",
    "![he](images/flyingcow.jpg)\n",
    "\n",
    "2018 has been a crazy year for technology. Smartphones are up to 89.6% screen-to-body ratio. Fidget spinners took over the world by storm. IoT-connected toilets now track your bowel movements and let you share it with your friends. \n",
    "\n",
    "Despite the incredible advances in humanity's cutting edge, the field of high velocity food transport remains nearly silent. However, Elon Musk's proposed rocket transport concepts might indeed change the farm-to-fork experience for our daily bread.  \n",
    "\n",
    "While Musk might understand the logistics of supply chain and have a degree in engineering, he is still thinking \"inside-the-box.\" We see the most efficient high-velocity food transport system completely void of rockets - fuel is expensive, big explosions are common, and it shouldn't take several million dollars to launch your next Big Mac from SanFran to Boston. Our goal: launch cattle across the state of Massachussets without a rocket. \n",
    "\n",
    "\n",
    "A big catapult should do the trick.\n",
    "\n",
    "Ideally, our beachhead market would be the type of cattle that is most efficient to launch - our catapult can be cheaper and we can launch higher quantities. At least that's what the \"suits upstairs\" said.\n",
    "\n",
    "Anyways, we need to figure out which cattle would fly the farthest for a fixed amount of weight.\n",
    "\n",
    "To maintain consistency, we will be launching ~630 kg of each animal with a single shot\n",
    "\n",
    "Our animals:\n",
    "\n",
    "| Animal         | Mass (kg) | Quantity Per Launch |\n",
    "|----------------|-----------|---------------------|\n",
    "| Chicken        | 6.35      | 99                  |\n",
    "| Cow            | 630.49    | 1                   |\n",
    "| Goat           | 124.74    | 5                   |\n",
    "| Pig            | 127.91    | 5                   |\n",
    "| Sheep          | 113.31    | 5                   |\n",
    "| Fish (Tilapia) | 2.27      | 228                 |\n",
    "\n",
    "sidebar: a fishing vessel that can launch the fish back to shore is actually a decent business idea."
   ]
  },
  {
   "cell_type": "markdown",
   "metadata": {},
   "source": [
    "### Robust and Versatile!\n",
    "\n",
    "We'd love to be able to launch any plane/train/animal that our heart so desires, so we need a robust physics model. The four fundamental forces of the universe include:\n",
    "- Strong force\n",
    "- Weak Force\n",
    "- Gravity\n",
    "- Electromagnetism\n",
    "\n",
    "Obviously, this is too general for us to write a single \"net force\" function, so our model will allow users to input their own force function that returns a force from the object's state.\n",
    "\n",
    "We also need some understanding of the object's aerodynamic properties (surprisingly falls under electromagnetism).\n",
    "We could either generalize the flight physics or write our own 2D computational fluid dynamics solver.\n",
    "\n",
    "We wrote our own CFD solver to handle images (emoji too)!"
   ]
  },
  {
   "cell_type": "code",
   "execution_count": 172,
   "metadata": {},
   "outputs": [],
   "source": [
    "from modsim_cfd import image2cdf, emoji2cdf\n",
    "import numpy as np\n",
    "import matplotlib.pyplot as plt"
   ]
  },
  {
   "cell_type": "markdown",
   "metadata": {},
   "source": [
    "### Behind the scenes\n",
    "\n",
    "The CFD solver takes the input image and converts it to a 2D array. We can then solve the Navier-Stokes fluid equations where the left-most boundary conditions sets the air flow at fixed initial momentum.\n",
    "\n",
    "By analyzing the momemntum drop of the fluid as it is solved around the input image, we can get values for the coefficients of drag and lift. More analysis can determine other characteristics like skin friction and form friction, but we are assuming turbulent fluid flow regardless of the object shape. \n",
    "\n",
    "![Example of Navier-Stokes solved around a pig](images/pignavier.png)"
   ]
  },
  {
   "cell_type": "markdown",
   "metadata": {},
   "source": [
    "### Building a projectile model\n",
    "\n",
    "We can treat each animal as a rigid body with a mass, position, velocity, and net acceleration.\n",
    "\n",
    "Each animal also has the coefficients of drag and lift that we determined with the CFD solver."
   ]
  },
  {
   "cell_type": "code",
   "execution_count": 393,
   "metadata": {},
   "outputs": [],
   "source": [
    "class state:\n",
    "    def __init__(self):\n",
    "        pass\n",
    "    \n",
    "class projectile:\n",
    "    def __init__(self, image, image_width = 1, mass = 1, dt = .1, is_emoji = False):\n",
    "        '''\n",
    "        Initalize a template projectile with basic 2D properties.\n",
    "        This function requires a profile (image) to be passed in as a string.\n",
    "        This string can either be the file location to the image or the unicode for an emoji.\n",
    "        Make sure to set the is_emoji parameter to true when relevant.\n",
    "        '''\n",
    "        self.state = state()\n",
    "        \n",
    "        self.state.position = np.array([0,0], dtype = np.float64)\n",
    "        self.positions = []\n",
    "        \n",
    "        self.state.velocity = np.array([0,0], dtype = np.float64)\n",
    "        self.velocities = []\n",
    "\n",
    "        self.state.acceleration = np.array([0,0], dtype = np.float64)\n",
    "        self.accelerations = []\n",
    "        \n",
    "        self.state.dt = dt\n",
    "        self.state.t = 0\n",
    "        self.times = []\n",
    "        \n",
    "        self.state.mass = mass\n",
    "        \n",
    "        self.is_emoji = is_emoji\n",
    "        \n",
    "        self.forces = []\n",
    "        \n",
    "        self.image = image\n",
    "        self.image_width = image_width\n",
    "        \n",
    "        self.define_aerodynamics(self.is_emoji)\n",
    "        \n",
    "    def define_aerodynamics(self, is_emoji = False):\n",
    "        '''\n",
    "        Using the modsim_cdf package, we can generate relevant aerodynamic properties of whatever image we want.\n",
    "        This function will use the relevant solver based on the is_emoji flag. \n",
    "        The current output properties are the coefficients of lift and drag.\n",
    "        '''\n",
    "        if is_emoji:\n",
    "            aerodynamics = emoji2cdf(self.image, \n",
    "                                     self.emoji_width)\n",
    "        else:\n",
    "            aerodynamics = image2cdf(self.image, \n",
    "                                     self.image_width)\n",
    "            \n",
    "        self.state.cd = aerodynamics['coefficient_of_drag']\n",
    "        self.state.cl = aerodynamics['coefficient_of_lift']\n",
    "        self.state.wing_area = aerodynamics['wing_area']\n",
    "        self.state.frontal_area = aerodynamics['frontal_area']\n",
    "        self.aerodynamic_properties = aerodynamics['properties']\n",
    "        \n",
    "    def update_state(self, position = 0, velocity = 0, acceleration = 0, dt = 0):#, position = self.position, velocity = self.velocity, acceleration = self.acceleration, dt = self.dt):\n",
    "        '''\n",
    "        Updates the state of the object and adds state to state history\n",
    "        dt can be overrriden for adaptive time step algorithms but defaults to the intial timestep        \n",
    "        '''\n",
    "        \n",
    "        self.state.position = position\n",
    "        self.positions.append(position.tolist())\n",
    "\n",
    "        self.state.velocity = velocity\n",
    "        self.velocities.append(velocity.tolist())\n",
    "                \n",
    "        self.state.acceleration = acceleration\n",
    "        self.accelerations.append(acceleration.tolist())\n",
    "        \n",
    "        self.state.t += self.state.dt\n",
    "        self.times.append(self.state.t)\n",
    "    \n",
    "    def add_force(self, force_function):\n",
    "        self.forces.append(force_function)\n",
    "\n",
    "    def get_accel(self, new_position = np.array([0.0, 0.0])):\n",
    "        '''\n",
    "        Loops through the associated force functions and returns a net acceleration\n",
    "        '''\n",
    "        \n",
    "        net_force = np.array([0.0, 0.0])\n",
    "        \n",
    "        for each_force in self.forces:\n",
    "            new_force = each_force(self.state)\n",
    "            net_force += new_force\n",
    "        \n",
    "        return(net_force/self.state.mass)\n",
    "\n",
    "    def tick(self):#, dt = self.dt):\n",
    "        '''\n",
    "        Use a custom RK4 method to move the object.\n",
    "        The default behavior is to use the dt of the object when initalized - this can be overridden with the dt parameter\n",
    "        The defaukt behavior will also automatically log the state of the object every step, this can be set to 0 for never or n for striping\n",
    "        '''\n",
    "        velo = self.state.velocity\n",
    "        pos = self.state.position\n",
    "        dt = self.state.dt\n",
    "    \n",
    "        k1 = dt * self.get_accel();\n",
    "        l1 = dt * velo;\n",
    "        \n",
    "        k2 = dt * self.get_accel(0.5 * l1);\n",
    "        l2 = dt * (velo + (0.5 * k1));\n",
    "\n",
    "        k3 = dt * self.get_accel(pos + (0.5 * l2) );\n",
    "        l3 = dt * (velo + (0.5 * k2));\n",
    "\n",
    "        k4 = dt * self.get_accel(pos + l3);\n",
    "        l4 = dt * (velo + k3);\n",
    "\n",
    "        velo += (k1 + (2.0 * k2) + (2.0 * k3) + k4) / 6.0;\n",
    "        pos += (l1 + (2.0 * l2) + (2.0 * l3) + l4) / 6.0; \n",
    "        \n",
    "        self.update_state(position = pos,\n",
    "                          velocity = velo,\n",
    "                          acceleration = self.get_accel())"
   ]
  },
  {
   "cell_type": "markdown",
   "metadata": {},
   "source": [
    "### With the framework above, we can load and launch nearly any object we want with somewhat realistic physics\n",
    "\n",
    "Our custom module `modsim_cdf` gives us useful information about the aerodynamic properties of whatever object we initialize. For instance, we can learn the drag and lift properties of a chicken from an image pulled from google:\n",
    "\n",
    "![chicken](images/chicken.png)"
   ]
  },
  {
   "cell_type": "code",
   "execution_count": 394,
   "metadata": {},
   "outputs": [
    {
     "data": {
      "text/plain": [
       "1"
      ]
     },
     "execution_count": 394,
     "metadata": {},
     "output_type": "execute_result"
    }
   ],
   "source": [
    "chicken = projectile(image = 'images/chicken.png',\n",
    "                     image_width = 0.6096,  #meters\n",
    "                     mass = 1.25,          #kilograms\n",
    "                     dt = .1)\n",
    "\n",
    "chicken.aerodynamic_properties"
   ]
  },
  {
   "cell_type": "markdown",
   "metadata": {},
   "source": [
    "\n",
    "or even from the emoji version (Apple's edition):\n",
    "\n",
    "🐔\n"
   ]
  },
  {
   "cell_type": "code",
   "execution_count": 395,
   "metadata": {},
   "outputs": [
    {
     "data": {
      "text/plain": [
       "1"
      ]
     },
     "execution_count": 395,
     "metadata": {},
     "output_type": "execute_result"
    }
   ],
   "source": [
    "emoji_chicken = projectile(image = '🐔',\n",
    "                           image_width = 0.6096,  #meters\n",
    "                           mass = 1.25,          #kilograms\n",
    "                           dt = .1)\n",
    "\n",
    "chicken.aerodynamic_properties"
   ]
  },
  {
   "cell_type": "markdown",
   "metadata": {},
   "source": [
    "### Launching our chickens.\n",
    "\n",
    "When launching our animals, we are interested in the fluid interactions of the profiles in air. We also want to keep the kinetic energy of the catapult fixed for each test, so we will evenly distribute the total kinetic energy among each object launched.\n",
    "\n",
    "To add realistic physics to our simulation, we need to start adding force interactions.\n",
    "\n",
    "For an object flying through the air, our free-body diagram indicates that drag, lift, gravity, and thrust are relevant forces. We ultimately choose not to include other forces like interplanetary graviation or solar wind because of their minute impact on the simulation results for the current small scale. However, our model is flexible enough to add in these interactions at a later date."
   ]
  },
  {
   "cell_type": "code",
   "execution_count": 396,
   "metadata": {},
   "outputs": [],
   "source": [
    "def lift(object_state):\n",
    "    '''\n",
    "    Calculates a lift vector normal to the velocity path of the object\n",
    "    \n",
    "    L = Cl * A * (0.5 * rho * V^2)\n",
    "    \n",
    "    '''\n",
    "    rho = 1.225 # kg/m^3\n",
    "    \n",
    "    \n",
    "    \n",
    "    perp_velocity = np.array([-object_state.velocity[1], object_state.velocity[0]]) \n",
    "    #perp_velocity = perp_velocity / np.sqrt(perp_velocity.dot(perp_velocity))\n",
    "    perp_velocity = perp_velocity / np.sqrt(perp_velocity[0]**2.0 + perp_velocity[1]**2.0)\n",
    "    \n",
    "    lift = object_state.cl * object_state.wing_area * rho * 0.5 * (object_state.velocity)**2.0\n",
    "    \n",
    "    return perp_velocity * lift"
   ]
  },
  {
   "cell_type": "code",
   "execution_count": 397,
   "metadata": {},
   "outputs": [],
   "source": [
    "def drag(object_state):\n",
    "    '''\n",
    "    Calculates the drag vector\n",
    "    \n",
    "    D = Cd * A * (0.5 * rho * V^2)\n",
    "    \n",
    "    '''\n",
    "    rho = 1.225 # kg/m^3\n",
    "    \n",
    "    velocity = object_state.velocity * -1\n",
    "    velocity = velocity / np.sqrt(velocity.dot(velocity))    \n",
    "    drag = object_state.cd * object_state.frontal_area * rho * 0.5 * (object_state.velocity)**2.0\n",
    "    \n",
    "    return drag * velocity"
   ]
  },
  {
   "cell_type": "code",
   "execution_count": 398,
   "metadata": {},
   "outputs": [],
   "source": [
    "def gravity(object_state):\n",
    "    '''\n",
    "    Calculats the force of gravity\n",
    "    \n",
    "    F = MG\n",
    "    '''\n",
    "    G = np.array([0, -9.8]) # m / s ^2\n",
    "    return object_state.mass * G"
   ]
  },
  {
   "cell_type": "code",
   "execution_count": 399,
   "metadata": {},
   "outputs": [],
   "source": [
    "def launch_end_condition(object_state):\n",
    "    return object_state.position[1] < 0"
   ]
  },
  {
   "cell_type": "markdown",
   "metadata": {},
   "source": [
    "### Need a launcher\n",
    "\n",
    "We know have a representation of the physics of flight and a robust way of generated useful aerodynamics data for each object entered into the simulation. However, we don't yet have a system to launch the animals and collect the data."
   ]
  },
  {
   "cell_type": "code",
   "execution_count": 400,
   "metadata": {},
   "outputs": [],
   "source": [
    "class launcher:\n",
    "    def __init__(self, release_height = 15 ):\n",
    "        self.release_position = np.array([0.0, release_height])\n",
    "        pass\n",
    "    \n",
    "    def load_projectile(self, projectile, num_projectiles = 1):\n",
    "        '''\n",
    "        Sets the initial conditions for the loaded projectiles\n",
    "        '''\n",
    "        self.projectile = projectile\n",
    "        self.projectile.state.position = self.release_position\n",
    "        self.num_projectiles = num_projectiles\n",
    "        \n",
    "    def launch(self, launch_end_condition, kinetic_energy, launch_angle = np.radians(45)):\n",
    "        '''\n",
    "        Set the initial velocity for the projectiles\n",
    "        Run their \"tick()\" functions until the end condition is met\n",
    "        Build the results object for easy data analysis\n",
    "        '''\n",
    "        ke_per_projectile = kinetic_energy/self.num_projectiles\n",
    "        velocity_norm = np.array([np.cos(launch_angle), np.sin(launch_angle)])\n",
    "\n",
    "        vel_mag = np.sqrt(2.0 * ke_per_projectile / self.projectile.state.mass)\n",
    "        self.projectile.state.velocity = velocity_norm * vel_mag\n",
    "        \n",
    "        while not launch_end_condition(self.projectile.state):\n",
    "            self.projectile.tick()\n",
    "        \n"
   ]
  },
  {
   "cell_type": "markdown",
   "metadata": {},
   "source": [
    "### Flight data for 99 chickens:"
   ]
  },
  {
   "cell_type": "code",
   "execution_count": 401,
   "metadata": {},
   "outputs": [],
   "source": [
    "catapult = launcher()\n",
    "\n",
    "chicken = projectile(image = 'images/chicken.png',\n",
    "                     mass = 1.25,\n",
    "                     dt = .01)\n",
    "\n",
    "chicken.add_force(lift) \n",
    "chicken.add_force(drag)\n",
    "chicken.add_force(gravity)\n",
    "\n",
    "catapult.load_projectile(chicken, num_projectiles = 99)\n",
    "catapult.launch(launch_end_condition,\n",
    "                kinetic_energy = 1000000,\n",
    "                launch_angle = np.radians(45))\n",
    "\n",
    "#plt.figure(dpi = 200)\n",
    "#plt.plot(chicken.results['Time'], chicken.results['Position'], label = 'Position vs. Time')"
   ]
  },
  {
   "cell_type": "code",
   "execution_count": 389,
   "metadata": {},
   "outputs": [
    {
     "data": {
      "text/plain": [
       "[<matplotlib.lines.Line2D at 0x7fb0513b4da0>]"
      ]
     },
     "execution_count": 389,
     "metadata": {},
     "output_type": "execute_result"
    },
    {
     "data": {
      "image/png": "[encoded data removed]",
      "text/plain": [
       "<Figure size 1200x800 with 1 Axes>"
      ]
     },
     "metadata": {
      "needs_background": "light"
     },
     "output_type": "display_data"
    }
   ],
   "source": [
    "plt.figure(dpi = 200)\n",
    "positions = np.array(chicken.positions)\n",
    "plt.plot(positions[:,0], positions[:,1])"
   ]
  },
  {
   "cell_type": "code",
   "execution_count": null,
   "metadata": {},
   "outputs": [],
   "source": []
  },
  {
   "cell_type": "code",
   "execution_count": 390,
   "metadata": {},
   "outputs": [],
   "source": [
    "\n",
    "chicken = projectile(image = 'images/chicken.png',\n",
    "                     mass = 1.25,\n",
    "                     dt = .1)\n"
   ]
  },
  {
   "cell_type": "code",
   "execution_count": 264,
   "metadata": {},
   "outputs": [
    {
     "data": {
      "text/plain": [
       "array([     0., -48985.])"
      ]
     },
     "execution_count": 264,
     "metadata": {},
     "output_type": "execute_result"
    }
   ],
   "source": [
    "chicken.state.position"
   ]
  },
  {
   "cell_type": "code",
   "execution_count": null,
   "metadata": {},
   "outputs": [],
   "source": []
  },
  {
   "cell_type": "code",
   "execution_count": 258,
   "metadata": {},
   "outputs": [
    {
     "data": {
      "text/plain": [
       "array([9.8, 9.8])"
      ]
     },
     "execution_count": 258,
     "metadata": {},
     "output_type": "execute_result"
    }
   ],
   "source": [
    "chicken.state.acceleration"
   ]
  },
  {
   "cell_type": "markdown",
   "metadata": {},
   "source": [
    "### Flight data for the other animals:\n",
    "\n",
    "| Animal         | Mass (kg) | Quantity Per Launch |\n",
    "|----------------|-----------|---------------------|\n",
    "| Chicken        | 6.35      | 99                  |\n",
    "| Cow            | 630.49    | 1                   |\n",
    "| Goat           | 124.74    | 5                   |\n",
    "| Pig            | 127.91    | 5                   |\n",
    "| Sheep          | 113.31    | 5                   |\n",
    "| Fish (Tilapia) | 2.27      | 228                 |\n",
    "\n",
    "### Launching all the different animals:"
   ]
  },
  {
   "cell_type": "code",
   "execution_count": null,
   "metadata": {},
   "outputs": [],
   "source": [
    "animals = {\"chicken\": {'num_animals' : 99,  'mass' : 6.35,   'image' : 'images/chicken.png'},\n",
    "           \"cow\":     {'num_animals' : 1,   'mass' : 630.49, 'image' : 'images/cow.png'},\n",
    "           \"goat\":    {'num_animals' : 5,   'mass' : 124.74, 'image' : 'images/goat.png'},\n",
    "           \"pig\":     {'num_animals' : 5,   'mass' : 124.74, 'image' : 'images/pig.png'},\n",
    "           \"sheep\":   {'num_animals' : 5,   'mass' : 113.91, 'image' : 'images/sheep.png'},\n",
    "           \"tilapia\": {'num_animals' : 228, 'mass' : 1.25,   'image' : 'images/tilapia.png'}}\n",
    "           \n",
    "for animal, properties in (animals.items()):\n",
    "    catapult = launcher()\n",
    "\n",
    "    animal_sim = projectile(image = properties['image'],\n",
    "                         mass = properties['mass'],\n",
    "                         dt = dt)\n",
    "\n",
    "    animal_sim.add_force(lift)\n",
    "    animal_sim.add_force(drag)\n",
    "    animal_sim.add_force(gravity)\n",
    "\n",
    "    catapult.load(animal_sim, num_projectiles = properties['num_animals'])\n",
    "    animal['results'] = catapult.launch(kinetic_energy = 1e6,\n",
    "                                        launch_angle = np.radians(45)\n",
    "                                        end_condition = launch_end_condition)\n"
   ]
  },
  {
   "cell_type": "markdown",
   "metadata": {},
   "source": [
    "### Results:\n",
    "\n",
    "For each animal, we have position, velocity, and acceleration vs time data. For the sake of this project, we are primarily curious in the greatest horizontal position achieved. The animals with the greatest horizontal position will have traveled the farthest for a fixed amount of kinetic energy and starting mass.\n",
    "\n",
    "This is given below:"
   ]
  },
  {
   "cell_type": "code",
   "execution_count": null,
   "metadata": {},
   "outputs": [],
   "source": [
    "plt.figure(dpi = 200)\n",
    "animals_to_plot = []\n",
    "anomals\n",
    "plt.bar()"
   ]
  },
  {
   "cell_type": "markdown",
   "metadata": {},
   "source": [
    "### Interpretations:"
   ]
  },
  {
   "cell_type": "markdown",
   "metadata": {},
   "source": [
    "### Conclusions:"
   ]
  }
 ],
 "metadata": {
  "kernelspec": {
   "display_name": "Python 3",
   "language": "python",
   "name": "python3"
  },
  "language_info": {
   "codemirror_mode": {
    "name": "ipython",
    "version": 3
   },
   "file_extension": ".py",
   "mimetype": "text/x-python",
   "name": "python",
   "nbconvert_exporter": "python",
   "pygments_lexer": "ipython3",
   "version": "3.6.7"
  }
 },
 "nbformat": 4,
 "nbformat_minor": 2
}
