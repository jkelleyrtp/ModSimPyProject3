{
 "cells": [
  {
   "cell_type": "markdown",
   "metadata": {},
   "source": [
    "# \n",
    "### S Dawg and J Dawg \n",
    "##### back at again\n",
    "\n",
    "###### u already kno\n",
    "\n",
    "\n",
    "![he](flyingcow.jpg)\n",
    "\n",
    "## Question: Which typical barnyard animal would be launched the farthest from a trebuchet capable of launching a 90kg weight 300m?\n",
    "\n",
    "\"How much kinetic energy would it take to launch various animals into low earth orbit when accounting for drag and lift?\"\n",
    "\n",
    "\n",
    "\n",
    "\n",
    "Our animals:\n",
    "* Chicken\n",
    "* Cow\n",
    "* Goat\n",
    "* Pigs\n",
    "* AAPL\n",
    "* Your mom\n",
    "* A trebuchet\n",
    "\n",
    "We did some googling and found basic properties of each item:\n",
    "\n",
    "\n",
    "\n",
    "https://www.britannica.com/technology/catapult-military-weaponry"
   ]
  },
  {
   "cell_type": "code",
   "execution_count": 2,
   "metadata": {},
   "outputs": [],
   "source": [
    "import numpy as np\n",
    "from modsim_cdf import image2cdf, emoji2image"
   ]
  },
  {
   "cell_type": "code",
   "execution_count": null,
   "metadata": {},
   "outputs": [],
   "source": [
    "    \n",
    "class projectile:\n",
    "    def __int__(self, profile, mass, dt = .1, is_emoji = False):\n",
    "        '''\n",
    "        Initalize a template projectile with basic 3d properties.\n",
    "        This function requires a profile (image) to be passed in as a string.\n",
    "        This string can either be the file location to the image or the unicode for an emoji.\n",
    "        Make sure to set the is_emoji parameter to true when relevant.\n",
    "        '''\n",
    "        self.position = np.array([0,0,0])\n",
    "        self.positions = []\n",
    "        \n",
    "        self.velocity = np.array([0,0,0])\n",
    "        self.velocities = []\n",
    "\n",
    "        self.acceleration = np.array([0,0,0])\n",
    "        self.accelerations = []\n",
    "        \n",
    "        self.dt = dt\n",
    "        \n",
    "        self.is_emoji = is_emoji\n",
    "        self.define_aerodynamics(self.is_emoji)\n",
    "        \n",
    "    def define_aerodynamics(self, is_emoji = False):\n",
    "        '''\n",
    "        Using the modsim_cdf package, we can generate relevant aerodynamic properties of whatever image we want.\n",
    "        This function will use the relevant solver based on the is_emoji flag. \n",
    "        The current output properties are the coefficients of lift and drag.\n",
    "        '''\n",
    "        if is_emoji:\n",
    "            aerodynamics = modsim_cdf.emoji2cdf(emoji, \n",
    "                                                emoji_width, \n",
    "                                                properties = [\"cd\", \"cl\"])\n",
    "        else:\n",
    "            aerodynamics = modsim_cdf.image2cdf(image, \n",
    "                                                image_width, \n",
    "                                                properties = [\"cd\", \"cl\"])\n",
    "        self.cd = aerodynamics['coefficient_of_drag']\n",
    "        self.cl = aerodynamics['coefficient_of_lift']\n",
    "        self.aerodynamic_properties = aerodynamics['properties']\n",
    "\n",
    "\n",
    "    def get_accel(self):\n",
    "        pass\n",
    "\n",
    "        \n",
    "    def tick(self, dt = self.dt):\n",
    "        '''\n",
    "        Use a custom RK4 method to move the object.\n",
    "        The default behavior is to use the dt of the object when initalized - this can be overridden with the dt parameter\n",
    "        The defaukt behavior will also automatically log the state of the object every step, this can be set to 0 for never or n for striping\n",
    "        \n",
    "        \n",
    "        \n",
    "        '''\n",
    "    \n",
    "        k1 = dt * self.get_accel();\n",
    "        l1 = dt * self.velo;\n",
    "\n",
    "        k2 = dt * self.get_accel(s);\n",
    "        l2 = dt * (velo + (0.5f * k1));\n",
    "\n",
    "        k3 = dt * get_accel( (pos + (0.5f * l2)), velo, local_coils, num_coils, c_sphere, ee_tab, ek_tab);\n",
    "        l3 = dt * (velo + (0.5f * k2));\n",
    "\n",
    "        k4 = dt * get_accel( (pos + l3), velo, local_coils, num_coils, c_sphere, ee_tab, ek_tab);\n",
    "        l4 = dt * (velo + k3);\n",
    "\n",
    "        velo += (k1 + (2.0f*k2) + (2.0f*k3) +k4)/6.0f;\n",
    "        pos += (l1 + (2.0f*l2) + (2.0f*l3) +l4)/6.0f;        \n",
    "\n",
    "\n",
    "class launcher:\n",
    "    def __int__(self):\n",
    "        pass\n",
    "    \n",
    "    def load_projectile(self, projectile):\n",
    "        self.projectile = projectile\n",
    "        self.projectile.position = self.release_position\n",
    "        \n",
    "        \n",
    "        \n",
    "    def launch_projectile(self):\n",
    "        \n",
    "        asd\n",
    "    \n",
    "    def full_launch(self, projectile):\n",
    "        self.load_projectile(projectile)\n",
    "        \n",
    "\n"
   ]
  },
  {
   "cell_type": "markdown",
   "metadata": {},
   "source": [
    "### With the framework above, we can load and launch nearly any object we want with somewhat realistic physics\n",
    "\n",
    "Our custom module `modsim_cdf` gives us useful information about the aerodynamic properties of whatever object we initialize. For instance, we can learn the drag and lift properties of a chicken from an image pulled from google:\n",
    "\n",
    "![chicken](images/chicken.png)"
   ]
  },
  {
   "cell_type": "code",
   "execution_count": null,
   "metadata": {},
   "outputs": [],
   "source": [
    "chicken = projectile(image = 'images/chicken.png',\n",
    "                     image_width = 0.6096  #meters\n",
    "                     mass = 1.25,          #kilograms\n",
    "                     dt = dt)\n",
    "\n",
    "chicken.aerodynamic_properties\n"
   ]
  },
  {
   "cell_type": "code",
   "execution_count": null,
   "metadata": {},
   "outputs": [],
   "source": [
    "\n",
    "or even from the emoji version (Apple's edition):\n",
    "\n",
    "`🐔`\n",
    "\n"
   ]
  },
  {
   "cell_type": "code",
   "execution_count": 1,
   "metadata": {},
   "outputs": [
    {
     "ename": "SyntaxError",
     "evalue": "invalid syntax (<ipython-input-1-fe0e8c49d302>, line 1)",
     "output_type": "error",
     "traceback": [
      "\u001b[0;36m  File \u001b[0;32m\"<ipython-input-1-fe0e8c49d302>\"\u001b[0;36m, line \u001b[0;32m1\u001b[0m\n\u001b[0;31m    oooooof help me please\u001b[0m\n\u001b[0m               ^\u001b[0m\n\u001b[0;31mSyntaxError\u001b[0m\u001b[0;31m:\u001b[0m invalid syntax\n"
     ]
    }
   ],
   "source": [
    "dt = .1\n",
    "\n",
    "catapult = launcher()\n",
    "\n",
    "chicken = projectile(image = 'images/chicken.png',\n",
    "                     mass = 1.25,\n",
    "                     dt = dt)\n",
    "\n",
    "\n",
    "\n",
    "catapult.load(chicken)\n",
    "results.addresult(chicken)\n",
    "\n",
    "cow = projectile(image = 'images/chicken.png', mass = 1.25, dt = dt)\n",
    "goat = projectile(image = 'images/chicken.png', mass = 1.25, dt = dt)"
   ]
  },
  {
   "cell_type": "code",
   "execution_count": null,
   "metadata": {},
   "outputs": [],
   "source": [
    "chicken.cl"
   ]
  },
  {
   "cell_type": "code",
   "execution_count": null,
   "metadata": {},
   "outputs": [],
   "source": [
    "launching things into space?\n",
    "dropping things?\n"
   ]
  },
  {
   "cell_type": "code",
   "execution_count": 2,
   "metadata": {},
   "outputs": [],
   "source": [
    "def return2vars():\n",
    "    return 1,2"
   ]
  },
  {
   "cell_type": "code",
   "execution_count": 37,
   "metadata": {},
   "outputs": [],
   "source": [
    "a = return2vars()"
   ]
  },
  {
   "cell_type": "code",
   "execution_count": 45,
   "metadata": {},
   "outputs": [
    {
     "ename": "SyntaxError",
     "evalue": "can't use starred expression here (cell_name, line 4)",
     "output_type": "error",
     "traceback": [
      "\u001b[0;36m  File \u001b[0;32m\"cell_name\"\u001b[0;36m, line \u001b[0;32m4\u001b[0m\n\u001b[0;31mSyntaxError\u001b[0m\u001b[0;31m:\u001b[0m can't use starred expression here\n"
     ]
    }
   ],
   "source": [
    "c,d = (*a)"
   ]
  },
  {
   "cell_type": "code",
   "execution_count": 43,
   "metadata": {},
   "outputs": [
    {
     "ename": "SyntaxError",
     "evalue": "can't use starred expression here (cell_name, line 4)",
     "output_type": "error",
     "traceback": [
      "\u001b[0;36m  File \u001b[0;32m\"cell_name\"\u001b[0;36m, line \u001b[0;32m4\u001b[0m\n\u001b[0;31mSyntaxError\u001b[0m\u001b[0;31m:\u001b[0m can't use starred expression here\n"
     ]
    }
   ],
   "source": [
    "c,d = *a"
   ]
  },
  {
   "cell_type": "code",
   "execution_count": 8,
   "metadata": {},
   "outputs": [
    {
     "data": {
      "text/plain": [
       "True"
      ]
     },
     "execution_count": 8,
     "metadata": {},
     "output_type": "execute_result"
    }
   ],
   "source": [
    "type(\"hek\") == str"
   ]
  },
  {
   "cell_type": "code",
   "execution_count": 10,
   "metadata": {},
   "outputs": [],
   "source": [
    "from emojipy import Emoji\n"
   ]
  },
  {
   "cell_type": "code",
   "execution_count": 12,
   "metadata": {},
   "outputs": [],
   "source": [
    "a = Emoji.to_image('\\u263A')"
   ]
  },
  {
   "cell_type": "code",
   "execution_count": 16,
   "metadata": {},
   "outputs": [
    {
     "ename": "TypeError",
     "evalue": "Image data cannot be converted to float",
     "output_type": "error",
     "traceback": [
      "\u001b[0;31m---------------------------------------------------------------------------\u001b[0m",
      "\u001b[0;31mTypeError\u001b[0m                                 Traceback (most recent call last)",
      "\u001b[0;32m<ipython-input-16-6f839f32ce92>\u001b[0m in \u001b[0;36m<module>\u001b[0;34m\u001b[0m\n\u001b[0;32m----> 1\u001b[0;31m \u001b[0mplt\u001b[0m\u001b[0;34m.\u001b[0m\u001b[0mimshow\u001b[0m\u001b[0;34m(\u001b[0m\u001b[0ma\u001b[0m\u001b[0;34m)\u001b[0m\u001b[0;34m\u001b[0m\u001b[0;34m\u001b[0m\u001b[0m\n\u001b[0m",
      "\u001b[0;32m~/virtualenvs/ipython-daily/lib/python3.6/site-packages/matplotlib/pyplot.py\u001b[0m in \u001b[0;36mimshow\u001b[0;34m(X, cmap, norm, aspect, interpolation, alpha, vmin, vmax, origin, extent, shape, filternorm, filterrad, imlim, resample, url, data, **kwargs)\u001b[0m\n\u001b[1;32m   2699\u001b[0m         \u001b[0mfilternorm\u001b[0m\u001b[0;34m=\u001b[0m\u001b[0mfilternorm\u001b[0m\u001b[0;34m,\u001b[0m \u001b[0mfilterrad\u001b[0m\u001b[0;34m=\u001b[0m\u001b[0mfilterrad\u001b[0m\u001b[0;34m,\u001b[0m \u001b[0mimlim\u001b[0m\u001b[0;34m=\u001b[0m\u001b[0mimlim\u001b[0m\u001b[0;34m,\u001b[0m\u001b[0;34m\u001b[0m\u001b[0;34m\u001b[0m\u001b[0m\n\u001b[1;32m   2700\u001b[0m         resample=resample, url=url, **({\"data\": data} if data is not\n\u001b[0;32m-> 2701\u001b[0;31m         None else {}), **kwargs)\n\u001b[0m\u001b[1;32m   2702\u001b[0m     \u001b[0msci\u001b[0m\u001b[0;34m(\u001b[0m\u001b[0m__ret\u001b[0m\u001b[0;34m)\u001b[0m\u001b[0;34m\u001b[0m\u001b[0;34m\u001b[0m\u001b[0m\n\u001b[1;32m   2703\u001b[0m     \u001b[0;32mreturn\u001b[0m \u001b[0m__ret\u001b[0m\u001b[0;34m\u001b[0m\u001b[0;34m\u001b[0m\u001b[0m\n",
      "\u001b[0;32m~/virtualenvs/ipython-daily/lib/python3.6/site-packages/matplotlib/__init__.py\u001b[0m in \u001b[0;36minner\u001b[0;34m(ax, data, *args, **kwargs)\u001b[0m\n\u001b[1;32m   1808\u001b[0m                         \u001b[0;34m\"the Matplotlib list!)\"\u001b[0m \u001b[0;34m%\u001b[0m \u001b[0;34m(\u001b[0m\u001b[0mlabel_namer\u001b[0m\u001b[0;34m,\u001b[0m \u001b[0mfunc\u001b[0m\u001b[0;34m.\u001b[0m\u001b[0m__name__\u001b[0m\u001b[0;34m)\u001b[0m\u001b[0;34m,\u001b[0m\u001b[0;34m\u001b[0m\u001b[0;34m\u001b[0m\u001b[0m\n\u001b[1;32m   1809\u001b[0m                         RuntimeWarning, stacklevel=2)\n\u001b[0;32m-> 1810\u001b[0;31m             \u001b[0;32mreturn\u001b[0m \u001b[0mfunc\u001b[0m\u001b[0;34m(\u001b[0m\u001b[0max\u001b[0m\u001b[0;34m,\u001b[0m \u001b[0;34m*\u001b[0m\u001b[0margs\u001b[0m\u001b[0;34m,\u001b[0m \u001b[0;34m**\u001b[0m\u001b[0mkwargs\u001b[0m\u001b[0;34m)\u001b[0m\u001b[0;34m\u001b[0m\u001b[0;34m\u001b[0m\u001b[0m\n\u001b[0m\u001b[1;32m   1811\u001b[0m \u001b[0;34m\u001b[0m\u001b[0m\n\u001b[1;32m   1812\u001b[0m         inner.__doc__ = _add_data_doc(inner.__doc__,\n",
      "\u001b[0;32m~/virtualenvs/ipython-daily/lib/python3.6/site-packages/matplotlib/axes/_axes.py\u001b[0m in \u001b[0;36mimshow\u001b[0;34m(self, X, cmap, norm, aspect, interpolation, alpha, vmin, vmax, origin, extent, shape, filternorm, filterrad, imlim, resample, url, **kwargs)\u001b[0m\n\u001b[1;32m   5492\u001b[0m                               resample=resample, **kwargs)\n\u001b[1;32m   5493\u001b[0m \u001b[0;34m\u001b[0m\u001b[0m\n\u001b[0;32m-> 5494\u001b[0;31m         \u001b[0mim\u001b[0m\u001b[0;34m.\u001b[0m\u001b[0mset_data\u001b[0m\u001b[0;34m(\u001b[0m\u001b[0mX\u001b[0m\u001b[0;34m)\u001b[0m\u001b[0;34m\u001b[0m\u001b[0;34m\u001b[0m\u001b[0m\n\u001b[0m\u001b[1;32m   5495\u001b[0m         \u001b[0mim\u001b[0m\u001b[0;34m.\u001b[0m\u001b[0mset_alpha\u001b[0m\u001b[0;34m(\u001b[0m\u001b[0malpha\u001b[0m\u001b[0;34m)\u001b[0m\u001b[0;34m\u001b[0m\u001b[0;34m\u001b[0m\u001b[0m\n\u001b[1;32m   5496\u001b[0m         \u001b[0;32mif\u001b[0m \u001b[0mim\u001b[0m\u001b[0;34m.\u001b[0m\u001b[0mget_clip_path\u001b[0m\u001b[0;34m(\u001b[0m\u001b[0;34m)\u001b[0m \u001b[0;32mis\u001b[0m \u001b[0;32mNone\u001b[0m\u001b[0;34m:\u001b[0m\u001b[0;34m\u001b[0m\u001b[0;34m\u001b[0m\u001b[0m\n",
      "\u001b[0;32m~/virtualenvs/ipython-daily/lib/python3.6/site-packages/matplotlib/image.py\u001b[0m in \u001b[0;36mset_data\u001b[0;34m(self, A)\u001b[0m\n\u001b[1;32m    640\u001b[0m         if (self._A.dtype != np.uint8 and\n\u001b[1;32m    641\u001b[0m                 not np.can_cast(self._A.dtype, float, \"same_kind\")):\n\u001b[0;32m--> 642\u001b[0;31m             \u001b[0;32mraise\u001b[0m \u001b[0mTypeError\u001b[0m\u001b[0;34m(\u001b[0m\u001b[0;34m\"Image data cannot be converted to float\"\u001b[0m\u001b[0;34m)\u001b[0m\u001b[0;34m\u001b[0m\u001b[0;34m\u001b[0m\u001b[0m\n\u001b[0m\u001b[1;32m    643\u001b[0m \u001b[0;34m\u001b[0m\u001b[0m\n\u001b[1;32m    644\u001b[0m         if not (self._A.ndim == 2\n",
      "\u001b[0;31mTypeError\u001b[0m: Image data cannot be converted to float"
     ]
    },
    {
     "data": {
      "image/png": "[encoded data removed]",
      "text/plain": [
       "<Figure size 432x288 with 1 Axes>"
      ]
     },
     "metadata": {
      "needs_background": "light"
     },
     "output_type": "display_data"
    }
   ],
   "source": [
    "plt.imshow(a)"
   ]
  },
  {
   "cell_type": "code",
   "execution_count": 15,
   "metadata": {},
   "outputs": [],
   "source": [
    "import matplotlib.pyplot as plt"
   ]
  },
  {
   "cell_type": "code",
   "execution_count": 19,
   "metadata": {},
   "outputs": [
    {
     "data": {
      "text/plain": [
       "'<img class=\"emojione\" alt=\"☺\" src=\"https://cdn.jsdelivr.net/emojione/assets/png/263A.png?v=1.2.5\"/>'"
      ]
     },
     "execution_count": 19,
     "metadata": {},
     "output_type": "execute_result"
    }
   ],
   "source": [
    "a"
   ]
  },
  {
   "cell_type": "code",
   "execution_count": 22,
   "metadata": {},
   "outputs": [],
   "source": [
    "import imageio"
   ]
  },
  {
   "cell_type": "code",
   "execution_count": 23,
   "metadata": {},
   "outputs": [],
   "source": [
    "\n",
    "im = imageio.imread('https://cdn.jsdelivr.net/emojione/assets/png/263A.png?v=1.2.5')\n",
    "plt.imshow(im)"
   ]
  },
  {
   "cell_type": "code",
   "execution_count": 25,
   "metadata": {},
   "outputs": [
    {
     "data": {
      "text/plain": [
       "<matplotlib.image.AxesImage at 0x7f0cfa1df978>"
      ]
     },
     "execution_count": 25,
     "metadata": {},
     "output_type": "execute_result"
    },
    {
     "data": {
      "image/png": "[encoded data removed]",
      "text/plain": [
       "<Figure size 432x288 with 1 Axes>"
      ]
     },
     "metadata": {
      "needs_background": "light"
     },
     "output_type": "display_data"
    }
   ],
   "source": []
  },
  {
   "cell_type": "code",
   "execution_count": 26,
   "metadata": {},
   "outputs": [
    {
     "data": {
      "text/plain": [
       "'<img class=\"emojione\" alt=\"☺\" src=\"https://cdn.jsdelivr.net/emojione/assets/png/263A.png?v=1.2.5\"/>'"
      ]
     },
     "execution_count": 26,
     "metadata": {},
     "output_type": "execute_result"
    }
   ],
   "source": [
    "a"
   ]
  },
  {
   "cell_type": "code",
   "execution_count": 46,
   "metadata": {},
   "outputs": [],
   "source": [
    "z = {\"abc\":123}"
   ]
  },
  {
   "cell_type": "code",
   "execution_count": 47,
   "metadata": {},
   "outputs": [
    {
     "data": {
      "text/plain": [
       "123"
      ]
     },
     "execution_count": 47,
     "metadata": {},
     "output_type": "execute_result"
    }
   ],
   "source": [
    "z['abc']"
   ]
  },
  {
   "cell_type": "code",
   "execution_count": null,
   "metadata": {},
   "outputs": [],
   "source": []
  }
 ],
 "metadata": {
  "kernelspec": {
   "display_name": "Python 3",
   "language": "python",
   "name": "python3"
  },
  "language_info": {
   "codemirror_mode": {
    "name": "ipython",
    "version": 3
   },
   "file_extension": ".py",
   "mimetype": "text/x-python",
   "name": "python",
   "nbconvert_exporter": "python",
   "pygments_lexer": "ipython3",
   "version": "3.6.7"
  }
 },
 "nbformat": 4,
 "nbformat_minor": 2
}
