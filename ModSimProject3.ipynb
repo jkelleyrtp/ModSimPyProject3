{
 "cells": [
  {
   "cell_type": "markdown",
   "metadata": {},
   "source": [
    "# High velocity food transport: a study in projectile cattle\n",
    "### Jonathan Kelley and Solomon Greenberg\n",
    "\n",
    "![he](flyingcow.jpg)\n",
    "\n",
    "2018 has been a crazy year for technology. Smartphones are up to 89.6% screen-to-body ratio. Fidget spinners took over the world by storm. IoT-connected toilets now track your bowel movements and let you share it with your friends. \n",
    "\n",
    "Despite the incredible advances in humanity's cutting edge, the field of high velocity food transport remains nearly silent. However, Elon Musk's proposed rocket transport concepts might indeed change the farm-to-fork experience for our daily bread.  \n",
    "\n",
    "While Musk might understand the logistics of supply chain and have a degree in engineering, he is still thinking \"inside-the-box.\" We see the most efficient high-velocity food transport system completely void of rockets - fuel is expensive, big explosions are common, and it shouldn't take several million dollars to launch your next Big Mac from SanFran to Boston. Our goal: launch cattle across the state of Massachussets without a rocket. \n",
    "\n",
    "\n",
    "A big catapult should do the trick.\n",
    "\n",
    "Ideally, our beachhead market would be the type of cattle that is most efficient to launch - our catapult can be cheaper and we can launch higher quantities. At least that's what the \"suits upstairs\" said.\n",
    "\n",
    "Anyways, we need to figure out which cattle would fly the farthest for a fixed amount of weight.\n",
    "\n",
    "To maintain consistency, we will be launching ~630 kg of each animal with a single shot\n",
    "\n",
    "Our animals:\n",
    "\n",
    "| Animal         | Mass (kg) | Quantity Per Launch |\n",
    "|----------------|-----------|---------------------|\n",
    "| Chicken        | 6.35      | 99                  |\n",
    "| Cow            | 630.49    | 1                   |\n",
    "| Goat           | 124.74    | 5                   |\n",
    "| Pig            | 127.91    | 5                   |\n",
    "| Sheep          | 113.31    | 5                   |\n",
    "| Fish (Tilapia) | 2.27      | 228                 |\n",
    "\n",
    "sidebar: a fishing vessel that can launch the fish back to shore is actually a decent business idea."
   ]
  },
  {
   "cell_type": "markdown",
   "metadata": {},
   "source": [
    "### Robust and Versatile!\n",
    "\n",
    "We'd love to be able to launch any plane/train/animal that our heart so desires, so we need a robust physics model. The four fundamental forces of the universe include:\n",
    "- Strong force\n",
    "- Weak Force\n",
    "- Gravity\n",
    "- Electromagnetism\n",
    "\n",
    "Obviously, this is too general for us to write a single \"net force\" function, so our model will allow users to input their own force function that returns a force from the object's state.\n",
    "\n",
    "We also need some understanding of the object's aerodynamic properties (surprisingly falls under electromagnetism).\n",
    "We could either generalize the flight physics or write our own 2D computational fluid dynamics solver.\n",
    "\n",
    "We wrote our own CFD solver to handle images (emoji too)!"
   ]
  },
  {
   "cell_type": "code",
   "execution_count": 96,
   "metadata": {},
   "outputs": [
    {
     "ename": "SyntaxError",
     "evalue": "invalid syntax (modsim_cdf.py, line 8)",
     "output_type": "error",
     "traceback": [
      "Traceback \u001b[0;36m(most recent call last)\u001b[0m:\n",
      "  File \u001b[1;32m\"/home/jkelleyrtp/virtualenvs/ipython-daily/lib/python3.6/site-packages/IPython/core/interactiveshell.py\"\u001b[0m, line \u001b[1;32m3267\u001b[0m, in \u001b[1;35mrun_code\u001b[0m\n    exec(code_obj, self.user_global_ns, self.user_ns)\n",
      "\u001b[0;36m  File \u001b[0;32m\"<ipython-input-96-a142f5d8d111>\"\u001b[0;36m, line \u001b[0;32m1\u001b[0;36m, in \u001b[0;35m<module>\u001b[0;36m\u001b[0m\n\u001b[0;31m    from modsim_cdf import image2cdf, emoji2image\u001b[0m\n",
      "\u001b[0;36m  File \u001b[0;32m\"/home/jkelleyrtp/Projects/Olin/ModSim/Project3/modsim_cdf.py\"\u001b[0;36m, line \u001b[0;32m8\u001b[0m\n\u001b[0;31m    def image2cdf:\u001b[0m\n\u001b[0m                 ^\u001b[0m\n\u001b[0;31mSyntaxError\u001b[0m\u001b[0;31m:\u001b[0m invalid syntax\n"
     ]
    }
   ],
   "source": [
    "from modsim_cdf import image2cdf, emoji2image"
   ]
  },
  {
   "cell_type": "markdown",
   "metadata": {},
   "source": [
    "### Behind the scenes\n",
    "\n",
    "The CFD solver takes the input image and converts it to a 2D array. We can then solve the Navier-Stokes fluid equations where the left-most boundary conditions set the air flow at fixed initial momentum.\n",
    "\n",
    "By analyzing the momemntum drop of the fluid as it is solved around the input image, we can get values for the coefficients of drag and lift. More analysis can determine other characteristics like skin friction and form friction, but we are assuming turbulent fluid flow regardless of the object shape. \n",
    "\n",
    "![Example of Navier-Stokes solved around a sphere](example_fluidfriction.png)"
   ]
  },
  {
   "cell_type": "markdown",
   "metadata": {},
   "source": [
    "### Building a projectile model\n",
    "\n",
    "We can treat each animal as a rigid body with a mass, position, velocity, and net acceleration.\n",
    "\n",
    "Each animal also has the coefficients of drag and lift that we determined with the CFD solver."
   ]
  },
  {
   "cell_type": "code",
   "execution_count": null,
   "metadata": {},
   "outputs": [],
   "source": [
    "    \n",
    "class projectile:\n",
    "    def __int__(self, profile, mass, dt = .1, is_emoji = False):\n",
    "        '''\n",
    "        Initalize a template projectile with basic 3d properties.\n",
    "        This function requires a profile (image) to be passed in as a string.\n",
    "        This string can either be the file location to the image or the unicode for an emoji.\n",
    "        Make sure to set the is_emoji parameter to true when relevant.\n",
    "        '''\n",
    "        self.state.position = np.array([0,0,0])\n",
    "        self.positions = []\n",
    "        \n",
    "        self.state.velocity = np.array([0,0,0])\n",
    "        self.velocities = []\n",
    "\n",
    "        self.state.acceleration = np.array([0,0,0])\n",
    "        self.accelerations = []\n",
    "        \n",
    "        self.state.dt = dt\n",
    "        self.times = []\n",
    "        \n",
    "        self.state.mass = mass\n",
    "        \n",
    "        self.is_emoji = is_emoji\n",
    "        self.define_aerodynamics(self.is_emoji)\n",
    "        \n",
    "        \n",
    "        \n",
    "    def define_aerodynamics(self, is_emoji = False):\n",
    "        '''\n",
    "        Using the modsim_cdf package, we can generate relevant aerodynamic properties of whatever image we want.\n",
    "        This function will use the relevant solver based on the is_emoji flag. \n",
    "        The current output properties are the coefficients of lift and drag.\n",
    "        '''\n",
    "        if is_emoji:\n",
    "            aerodynamics = modsim_cdf.emoji2cdf(emoji, \n",
    "                                                emoji_width, \n",
    "                                                properties = [\"cd\", \"cl\"])\n",
    "        else:\n",
    "            aerodynamics = modsim_cdf.image2cdf(image, \n",
    "                                                image_width, \n",
    "                                                properties = [\"cd\", \"cl\"])\n",
    "        self.cd = aerodynamics['coefficient_of_drag']\n",
    "        self.cl = aerodynamics['coefficient_of_lift']\n",
    "        self.aerodynamic_properties = aerodynamics['properties']\n",
    "\n",
    "        \n",
    "        \n",
    "        \n",
    "    def update_state(self, position = self.position, velocity = self.velocity, acceleration = self.acceleration, dt = self.dt):\n",
    "        '''\n",
    "        Updates the state of the object and adds state to state history\n",
    "        dt can be overrriden for adaptive time step algorithms but defaults to the intial timestep        \n",
    "        '''\n",
    "        self.state.position = position\n",
    "        self.positions.append(position)\n",
    "\n",
    "        self.state.velocity = velocity\n",
    "        self.velocities.append(velocity)\n",
    "                \n",
    "        self.state.acceleration = acceleration\n",
    "        self.accelerations.append(acceleration)\n",
    "        \n",
    "        self.state.t += self.dt\n",
    "        self.times.append(self.t)\n",
    "                \n",
    "\n",
    "    def get_accel(self):\n",
    "        '''\n",
    "        Loops through the associated force functions and returns a net acceleration\n",
    "        '''\n",
    "        \n",
    "        net_force = np.array([0,0,0])\n",
    "        \n",
    "        for each_force in self.forces:\n",
    "            net_force += each_force(self.state)\n",
    "        \n",
    "        return(netforce/self.state.mass)\n",
    "\n",
    "        \n",
    "    def tick(self, dt = self.dt):\n",
    "        '''\n",
    "        Use a custom RK4 method to move the object.\n",
    "        The default behavior is to use the dt of the object when initalized - this can be overridden with the dt parameter\n",
    "        The defaukt behavior will also automatically log the state of the object every step, this can be set to 0 for never or n for striping\n",
    "        '''\n",
    "        velo = self.velo\n",
    "    \n",
    "        k1 = dt * self.get_accel();\n",
    "        l1 = dt * velo;\n",
    "\n",
    "        k2 = dt * self.get_accel(0.5 * l1);\n",
    "        l2 = dt * (velo + (0.5 * k1));\n",
    "\n",
    "        k3 = dt * self.get_accel(pos + (0.5 * l2) );\n",
    "        l3 = dt * (velo + (0.5 * k2));\n",
    "\n",
    "        k4 = dt * self.get_accel(pos + l3);\n",
    "        l4 = dt * (velo + k3);\n",
    "\n",
    "        velo += (k1 + (2.0 * k2) + (2.0 * k3) + k4) / 6.0;\n",
    "        pos += (l1 + (2.0 * l2) + (2.0 * l3) + l4) / 6.0; \n",
    "        \n",
    "        self.update_state(pos = self.position,\n",
    "                          velocity = self.velocity,\n",
    "                          acceleration = self.get_accel())"
   ]
  },
  {
   "cell_type": "code",
   "execution_count": null,
   "metadata": {},
   "outputs": [],
   "source": [
    "\n",
    "class launcher:\n",
    "    def __int__(self):\n",
    "        pass\n",
    "    \n",
    "    def load_projectile(self, projectile):\n",
    "        self.projectile = projectile\n",
    "        self.projectile.position = self.release_position\n",
    "        \n",
    "        \n",
    "        \n",
    "    def launch_projectile(self):\n",
    "        \n",
    "        asd\n",
    "    \n",
    "    def full_launch(self, projectile):\n",
    "        self.load_projectile(projectile)\n"
   ]
  },
  {
   "cell_type": "markdown",
   "metadata": {},
   "source": [
    "### With the framework above, we can load and launch nearly any object we want with somewhat realistic physics\n",
    "\n",
    "Our custom module `modsim_cdf` gives us useful information about the aerodynamic properties of whatever object we initialize. For instance, we can learn the drag and lift properties of a chicken from an image pulled from google:\n",
    "\n",
    "![chicken](images/chicken.png)"
   ]
  },
  {
   "cell_type": "code",
   "execution_count": 49,
   "metadata": {},
   "outputs": [
    {
     "ename": "NameError",
     "evalue": "name 'projectile' is not defined",
     "output_type": "error",
     "traceback": [
      "\u001b[0;31m---------------------------------------------------------------------------\u001b[0m",
      "\u001b[0;31mNameError\u001b[0m                                 Traceback (most recent call last)",
      "\u001b[0;32m<ipython-input-49-496233651f49>\u001b[0m in \u001b[0;36m<module>\u001b[0;34m\u001b[0m\n\u001b[0;32m----> 1\u001b[0;31m chicken = projectile(image = 'images/chicken.png',\n\u001b[0m\u001b[1;32m      2\u001b[0m                      \u001b[0mimage_width\u001b[0m \u001b[0;34m=\u001b[0m \u001b[0;36m0.6096\u001b[0m\u001b[0;34m,\u001b[0m  \u001b[0;31m#meters\u001b[0m\u001b[0;34m\u001b[0m\u001b[0;34m\u001b[0m\u001b[0m\n\u001b[1;32m      3\u001b[0m                      \u001b[0mmass\u001b[0m \u001b[0;34m=\u001b[0m \u001b[0;36m1.25\u001b[0m\u001b[0;34m,\u001b[0m          \u001b[0;31m#kilograms\u001b[0m\u001b[0;34m\u001b[0m\u001b[0;34m\u001b[0m\u001b[0m\n\u001b[1;32m      4\u001b[0m                      dt = dt)\n\u001b[1;32m      5\u001b[0m \u001b[0;34m\u001b[0m\u001b[0m\n",
      "\u001b[0;31mNameError\u001b[0m: name 'projectile' is not defined"
     ]
    }
   ],
   "source": [
    "chicken = projectile(image = 'images/chicken.png',\n",
    "                     image_width = 0.6096,  #meters\n",
    "                     mass = 1.25,          #kilograms\n",
    "                     dt = dt)\n",
    "\n",
    "chicken.aerodynamic_properties"
   ]
  },
  {
   "cell_type": "markdown",
   "metadata": {},
   "source": [
    "\n",
    "or even from the emoji version (Apple's edition):\n",
    "\n",
    "🐔\n"
   ]
  },
  {
   "cell_type": "code",
   "execution_count": null,
   "metadata": {},
   "outputs": [],
   "source": [
    "emoji_chicken = projectile(image = '🐔',\n",
    "                           image_width = 0.6096,  #meters\n",
    "                           mass = 1.25,          #kilograms\n",
    "                           dt = dt)\n",
    "\n",
    "chicken.aerodynamic_properties"
   ]
  },
  {
   "cell_type": "code",
   "execution_count": 1,
   "metadata": {},
   "outputs": [
    {
     "ename": "SyntaxError",
     "evalue": "invalid syntax (<ipython-input-1-fe0e8c49d302>, line 1)",
     "output_type": "error",
     "traceback": [
      "\u001b[0;36m  File \u001b[0;32m\"<ipython-input-1-fe0e8c49d302>\"\u001b[0;36m, line \u001b[0;32m1\u001b[0m\n\u001b[0;31m    oooooof help me please\u001b[0m\n\u001b[0m               ^\u001b[0m\n\u001b[0;31mSyntaxError\u001b[0m\u001b[0;31m:\u001b[0m invalid syntax\n"
     ]
    }
   ],
   "source": [
    "dt = .1\n",
    "\n",
    "catapult = launcher()\n",
    "\n",
    "chicken = projectile(image = 'images/chicken.png',\n",
    "                     mass = 1.25,\n",
    "                     dt = dt)\n",
    "\n",
    "\n",
    "\n",
    "catapult.load(chicken)\n",
    "d.addresult(chicken)\n",
    "\n",
    "cow = projectile(image = 'images/chicken.png', mass = 1.25, dt = dt)\n",
    "goat = projectile(image = 'images/chicken.png', mass = 1.25, dt = dt)"
   ]
  },
  {
   "cell_type": "code",
   "execution_count": 52,
   "metadata": {},
   "outputs": [],
   "source": [
    "a = Emoji.to_image('\\u263A')"
   ]
  },
  {
   "cell_type": "code",
   "execution_count": 51,
   "metadata": {},
   "outputs": [
    {
     "data": {
      "text/plain": [
       "(1, 2)"
      ]
     },
     "execution_count": 51,
     "metadata": {},
     "output_type": "execute_result"
    }
   ],
   "source": [
    "a"
   ]
  },
  {
   "cell_type": "code",
   "execution_count": 97,
   "metadata": {},
   "outputs": [
    {
     "data": {
      "text/plain": [
       "<matplotlib.image.AxesImage at 0x7f0ceac31cc0>"
      ]
     },
     "execution_count": 97,
     "metadata": {},
     "output_type": "execute_result"
    },
    {
     "data": {
      "image/png": "[encoded data removed]",
      "text/plain": [
       "<Figure size 432x288 with 1 Axes>"
      ]
     },
     "metadata": {},
     "output_type": "display_data"
    }
   ],
   "source": [
    "\n",
    "im = imageio.imread('https://cdn.jsdelivr.net/emojione/assets/png/263A.png?v=1.2.5')\n",
    "plt.imshow(im)"
   ]
  },
  {
   "cell_type": "code",
   "execution_count": null,
   "metadata": {},
   "outputs": [],
   "source": []
  }
 ],
 "metadata": {
  "kernelspec": {
   "display_name": "Python 3",
   "language": "python",
   "name": "python3"
  },
  "language_info": {
   "codemirror_mode": {
    "name": "ipython",
    "version": 3
   },
   "file_extension": ".py",
   "mimetype": "text/x-python",
   "name": "python",
   "nbconvert_exporter": "python",
   "pygments_lexer": "ipython3",
   "version": "3.6.7"
  }
 },
 "nbformat": 4,
 "nbformat_minor": 2
}
